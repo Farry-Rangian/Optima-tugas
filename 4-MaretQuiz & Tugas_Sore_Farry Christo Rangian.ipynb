{
  "nbformat": 4,
  "nbformat_minor": 0,
  "metadata": {
    "colab": {
      "name": "4 Maret",
      "provenance": [],
      "collapsed_sections": []
    },
    "kernelspec": {
      "name": "python3",
      "display_name": "Python 3"
    },
    "language_info": {
      "name": "python"
    }
  },
  "cells": [
    {
      "cell_type": "markdown",
      "source": [
        "### Quiz 1\n",
        "function"
      ],
      "metadata": {
        "id": "fC__nWdksznq"
      }
    },
    {
      "cell_type": "code",
      "execution_count": 3,
      "metadata": {
        "colab": {
          "base_uri": "https://localhost:8080/"
        },
        "id": "_3mPRzBMrsE1",
        "outputId": "3617a4a5-5b12-4423-af05-fea8512aa469"
      },
      "outputs": [
        {
          "output_type": "stream",
          "name": "stdout",
          "text": [
            "        1 \r\n",
            "       2 2 \r\n",
            "      3 3 3 \r\n",
            "     4 4 4 4 \r\n",
            "    5 5 5 5 5 \r\n",
            "   6 6 6 6 6 6 \r\n",
            "    5 5 5 5 5 \r\n",
            "     4 4 4 4 \r\n",
            "      3 3 3 \r\n",
            "       2 2 \r\n",
            "        1 \r\n"
          ]
        }
      ],
      "source": [
        "def pola(n):\n",
        "    k = 2 * n - 2\n",
        "    x = 0\n",
        "    for i in range(0, n):\n",
        "        x += 1\n",
        "        for j in range(0, k):\n",
        "            print(end=\" \")\n",
        "        k = k - 1\n",
        "        for j in range(0, i + 1):\n",
        "            print(x, end=\" \")\n",
        "        print(\"\\r\")\n",
        "    k = n - 2\n",
        "    x = n + 2\n",
        "    for i in range(n, -1, -1):\n",
        "        x -= 1\n",
        "        for j in range(k, 0, -1):\n",
        "            print(end=\" \")\n",
        "        k = k + 1\n",
        "        for j in range(0, i + 1):\n",
        "            print(x, end=\" \")\n",
        "        print(\"\\r\")\n",
        "\n",
        "pola(5)"
      ]
    },
    {
      "cell_type": "markdown",
      "source": [
        "### Tugas Pagi"
      ],
      "metadata": {
        "id": "3XVg18I9a93i"
      }
    },
    {
      "cell_type": "code",
      "source": [
        "with open(\"nota.txt\", 'w') as file:\n",
        "  nama = input(\"Masukkan Nama Pemesan : \")\n",
        "  print(f\"Selamat Datang {nama.upper()}\")\n",
        "  print(\"Daftar Menu \\n Ketikkan nomor pesanan \\n 1. Nasi Goreng \\n 2. Ayam Lalapan\\n 3. Mie Goreng\")\n",
        "\n",
        "  def pesanan(pesan):\n",
        "    if pesan == 1:\n",
        "      harga = 15\n",
        "      print(f\" Goreng harga Rp.{harga}.000\")\n",
        "      file.write(f\"Nasi Goreng harga Rp.{harga}.000 \\n\")\n",
        "    elif pesan == 2:\n",
        "      harga = 17\n",
        "      print(f\"Ayam Lalapan harga Rp.{harga}.000\")\n",
        "      file.write(f\"Ayam Lalapan harga Rp.{harga}.000 \\n\")\n",
        "    elif pesan == 3:\n",
        "      harga = 15\n",
        "      print(f\"Mie Goreng Rp.{harga}.000\")\n",
        "      file.write(f\"Mie Goreng harga Rp.{harga}.000 \\n\")\n",
        "    else:\n",
        "      str(print(\"Pesanan anda tidak valid\"))\n",
        "\n",
        "  lagi = \"ya\"\n",
        "  while (lagi == \"ya\") or (lagi == \"y\"):  \n",
        "    pesan = int(input(\"Masukkan pesanan anda : \"))\n",
        "    pesanan(pesan)\n",
        "    lagi = input(\"Apakah ingin memesan lagi? \")\n"
      ],
      "metadata": {
        "colab": {
          "base_uri": "https://localhost:8080/"
        },
        "id": "I2DazSJ2g8iz",
        "outputId": "79984f55-b126-409a-9952-be76073efd67"
      },
      "execution_count": 110,
      "outputs": [
        {
          "name": "stdout",
          "output_type": "stream",
          "text": [
            "Masukkan Nama Pemesan : farry\n",
            "Selamat Datang FARRY\n",
            "Daftar Menu \n",
            " Ketikkan nomor pesanan \n",
            " 1. Nasi Goreng \n",
            " 2. Ayam Lalapan\n",
            " 3. Mie Goreng\n",
            "Masukkan pesanan anda : 1\n",
            " Goreng harga Rp.15.000\n",
            "Apakah ingin memesan lagi? y\n",
            "Masukkan pesanan anda : 2\n",
            "Ayam Lalapan harga Rp.17.000\n",
            "Apakah ingin memesan lagi? y\n",
            "Masukkan pesanan anda : 3\n",
            "Mie Goreng Rp.15.000\n",
            "Apakah ingin memesan lagi? t\n"
          ]
        }
      ]
    },
    {
      "cell_type": "code",
      "source": [
        "fileq = open(\"nota.txt\", 'r+')\n",
        "print(fileq.read())"
      ],
      "metadata": {
        "colab": {
          "base_uri": "https://localhost:8080/"
        },
        "id": "Js-A9i6awB03",
        "outputId": "aae77a1c-dc39-4117-a6fa-b2fb29ac9348"
      },
      "execution_count": 111,
      "outputs": [
        {
          "output_type": "stream",
          "name": "stdout",
          "text": [
            "Nasi Goreng harga Rp.15.000 \n",
            "Ayam Lalapan harga Rp.17.000 \n",
            "Mie Goreng harga Rp.15.000 \n",
            "\n"
          ]
        }
      ]
    },
    {
      "cell_type": "code",
      "source": [
        ""
      ],
      "metadata": {
        "id": "5GaKgXmaGcpS"
      },
      "execution_count": null,
      "outputs": []
    }
  ]
}