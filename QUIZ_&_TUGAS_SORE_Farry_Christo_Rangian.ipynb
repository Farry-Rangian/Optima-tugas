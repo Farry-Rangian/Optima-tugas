{
  "nbformat": 4,
  "nbformat_minor": 0,
  "metadata": {
    "colab": {
      "name": "QUIZ  & TUGAS SORE - Farry Christo Rangian.ipynb",
      "provenance": [],
      "collapsed_sections": []
    },
    "kernelspec": {
      "name": "python3",
      "display_name": "Python 3"
    },
    "language_info": {
      "name": "python"
    }
  },
  "cells": [
    {
      "cell_type": "markdown",
      "source": [
        "### Quiz Game Dukun"
      ],
      "metadata": {
        "id": "GYaIpaQ81Lpo"
      }
    },
    {
      "cell_type": "code",
      "execution_count": 36,
      "metadata": {
        "colab": {
          "base_uri": "https://localhost:8080/"
        },
        "id": "pSaQ8wcqTfOb",
        "outputId": "e0dc5c6b-c5f4-4a54-b988-3f24328b6bc8"
      },
      "outputs": [
        {
          "output_type": "stream",
          "name": "stdout",
          "text": [
            "Masukkan angka pertama = 4\n",
            "Angka pertama Komputer -5\n",
            "Masukkan angka kedua = -9\n",
            "Total angka komputer = -5\n",
            "Total angka pemain = -5\n",
            "selamat anda menang :)\n",
            "Anda menang pada game: 1\n",
            "Main Lagi (ya/tidak) ?ya\n",
            "\n",
            "Masukkan angka pertama = 3\n",
            "Angka pertama Komputer -5\n",
            "Masukkan angka kedua = 3\n",
            "Total angka komputer = -5\n",
            "Total angka pemain = 6\n",
            "Anda Kalah :(\n",
            "Main Lagi (ya/tidak) ?ya\n",
            "\n",
            "Masukkan angka pertama = 3\n",
            "Angka pertama Komputer -5\n",
            "Masukkan angka kedua = 3\n",
            "Total angka komputer = -5\n",
            "Total angka pemain = 6\n",
            "Anda Kalah :(\n",
            "Main Lagi (ya/tidak) ?ya\n",
            "\n",
            "Masukkan angka pertama = 3\n",
            "Angka pertama Komputer -5\n",
            "Masukkan angka kedua = -8\n",
            "Total angka komputer = -5\n",
            "Total angka pemain = -5\n",
            "selamat anda menang :)\n",
            "Anda menang pada game: 4\n",
            "Main Lagi (ya/tidak) ?tidak\n",
            "\n"
          ]
        }
      ],
      "source": [
        "import random\n",
        "\n",
        "komputer1 = random.randint(-6,6)\n",
        "komputer2 = random.randint(-6,6)\n",
        "totalKomputer = komputer1 + komputer2\n",
        "\n",
        "main = \"ya\"\n",
        "i = 0\n",
        "while main == \"ya\":\n",
        "    i += 1\n",
        "    input1 = int(input(\"Masukkan angka pertama = \"))\n",
        "    print(f'Angka pertama Komputer {komputer1}')\n",
        "    input2 = int(input(\"Masukkan angka kedua = \"))\n",
        "    totalInput = input1 + input2\n",
        "    print(f'Total angka komputer = {totalKomputer}')\n",
        "    print(f'Total angka pemain = {totalInput}')\n",
        "\n",
        "    if totalKomputer == totalInput:\n",
        "        print(\"selamat anda menang :)\")\n",
        "        print(f'Anda menang pada game: {i}')\n",
        "    else:\n",
        "        print(\"Anda Kalah :(\")\n",
        "    main = input(\"Main Lagi (ya/tidak) ?\")\n",
        "    print(\"\")"
      ]
    },
    {
      "cell_type": "markdown",
      "source": [
        "# Tugas Sore\n"
      ],
      "metadata": {
        "id": "3Iyy0FXZ1U5Y"
      }
    },
    {
      "cell_type": "code",
      "source": [
        "import random\n",
        "\n",
        "print(\"Selamat datang Petualang\")\n",
        "print(\"Misi anda untuk mengalahkan Naga\")\n",
        "print(\"Hero disini diberikan 3 skill untuk membantu mengalahkan naga\")\n",
        "print(\"1: Skill Pedang Ganda dengan damage antara 2 sampai 4 tetapi menguras stamina sebanyak 1\")\n",
        "print(\"2: Skill Tusukan Bertubi-tubi dengan damage antara 5 sampai 8 tetapi menguras stamina sebanyak 3\")\n",
        "print(\"3: Skill Healing untuk menambah stamina sebanyak 3\")\n",
        "print(\"4: skill Ultimate dengan damage sebesar 10 tetapi menguras stamina sebanyak 5\")\n",
        "print(\"cat: jika stamina tidak cukup maka tidak bisa menggunakan skill\")\n",
        "print(\"Ketik 1 untuk memilih skill satu dan seterusnya\")\n",
        "print(\"\")\n",
        "naga = 30\n",
        "hero = 35\n",
        "stamina = 15\n",
        "print(f'Nyawa Hero : {hero}   Stamina : {stamina}')\n",
        "print(f'Nyawa Naga : {naga}')\n",
        "\n",
        "while (naga > 0) and (hero > 0) :\n",
        "  serang = int(input(\"Serang : \"))\n",
        "  if (serang == 1) and (stamina >= 1):\n",
        "    naga -= random.randint(2,4)\n",
        "    hero -= random.randint(1,8)\n",
        "    stamina -= 1\n",
        "    print(f'Nyawa Hero : {hero}   Stamina : {stamina}')\n",
        "    print(f'Nyawa Naga : {naga}')\n",
        "    print(\"\")\n",
        "  elif serang == 2 and (stamina >= 3):\n",
        "    naga -= random.randint(5,8)\n",
        "    hero -= random.randint(1,8)\n",
        "    stamina -= 3\n",
        "    print(f'Nyawa Hero : {hero}   Stamina : {stamina}')\n",
        "    print(f'Nyawa Naga : {naga}')\n",
        "    print(\"\")\n",
        "  elif serang == 3:\n",
        "    hero -= random.randint(1,8)\n",
        "    stamina += 3\n",
        "    print(f'Nyawa Hero : {hero}   Stamina : {stamina}')\n",
        "    print(f'Nyawa Naga : {naga}')\n",
        "    print(\"\")\n",
        "  elif serang == 4 and (stamina >= 5):\n",
        "    naga -= random.randint(6,8)\n",
        "    hero -= random.randint(1,8)\n",
        "    stamina -= 5\n",
        "    print(f'Nyawa Hero : {hero}   Stamina : {stamina}')\n",
        "    print(f'Nyawa Naga : {naga}')\n",
        "    print(\"\")\n",
        "  else:\n",
        "    print(\"Stamina tidak cukup lakukan healing stamina\")\n",
        "\n",
        "\n",
        "if naga <= 0:\n",
        "  print('Selamat anda Telah mengalahkan Naga')\n",
        "if hero <= 0:\n",
        "  print('Darah telah habis Anda kalah :(')\n"
      ],
      "metadata": {
        "colab": {
          "base_uri": "https://localhost:8080/"
        },
        "id": "arUdiLzqssoj",
        "outputId": "e68e56f3-e2c3-4947-8c33-b80fafd213d8"
      },
      "execution_count": 34,
      "outputs": [
        {
          "output_type": "stream",
          "name": "stdout",
          "text": [
            "Selamat datang Petualang\n",
            "Misi anda untuk mengalahkan Naga\n",
            "Hero disini diberikan 3 skill untuk membantu mengalahkan naga\n",
            "1: Skill Pedang Ganda dengan damage antara 2 sampai 4 tetapi menguras stamina sebanyak 1\n",
            "2: Skill Tusukan Bertubi-tubi dengan damage antara 5 sampai 8 tetapi menguras stamina sebanyak 3\n",
            "3: Skill Healing untuk menambah stamina sebanyak 3\n",
            "4: skill Ultimate dengan damage sebesar 10 tetapi menguras stamina sebanyak 5\n",
            "cat: jika stamina tidak cukup maka tidak bisa menggunakan skill\n",
            "Ketik 1 untuk memilih skill satu dan seterusnya\n",
            "\n",
            "Nyawa Hero : 40   Stamina : 15\n",
            "Nyawa Naga : 30\n",
            "Serang : 4\n",
            "Nyawa Hero : 38   Stamina : 10\n",
            "Nyawa Naga : 22\n",
            "\n",
            "Serang : 4\n",
            "Nyawa Hero : 36   Stamina : 5\n",
            "Nyawa Naga : 14\n",
            "\n",
            "Serang : 4\n",
            "Nyawa Hero : 35   Stamina : 0\n",
            "Nyawa Naga : 6\n",
            "\n",
            "Serang : 3\n",
            "Nyawa Hero : 27   Stamina : 3\n",
            "Nyawa Naga : 6\n",
            "\n",
            "Serang : 3\n",
            "Nyawa Hero : 25   Stamina : 6\n",
            "Nyawa Naga : 6\n",
            "\n",
            "Serang : 4\n",
            "Nyawa Hero : 20   Stamina : 1\n",
            "Nyawa Naga : -1\n",
            "\n",
            "Selamat anda Telah mengalahkan Naga\n"
          ]
        }
      ]
    },
    {
      "cell_type": "code",
      "source": [
        ""
      ],
      "metadata": {
        "id": "BIvozWZ_Xw_4"
      },
      "execution_count": null,
      "outputs": []
    }
  ]
}