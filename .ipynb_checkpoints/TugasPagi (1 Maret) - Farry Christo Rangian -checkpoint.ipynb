{
 "cells": [
  {
   "cell_type": "code",
   "execution_count": 4,
   "id": "2cfe8482",
   "metadata": {},
   "outputs": [
    {
     "name": "stdout",
     "output_type": "stream",
     "text": [
      "Selamat datang di permainan Kartu\n",
      "Jika kartu kamu lebih dari 21 maka kamu menang\n",
      "tetapi jika kartu kamu kurang dari 21 maka kamu kalah\n",
      "\n",
      "Kocok Kartu...\n",
      "Kartu Pertama = 5\n",
      "Kartu Kedua = 6\n",
      "Anda Kalah :(\n",
      "Total = 11\n",
      "Bermain lagi(ya/tidak)? ya\n",
      "\n",
      "Kocok Kartu...\n",
      "Kartu Pertama = 5\n",
      "Kartu Kedua = 3\n",
      "Anda Kalah :(\n",
      "Total = 8\n",
      "Bermain lagi(ya/tidak)? ya\n",
      "\n",
      "Kocok Kartu...\n",
      "Kartu Pertama = 8\n",
      "Kartu Kedua = 1\n",
      "Anda Kalah :(\n",
      "Total = 9\n",
      "Bermain lagi(ya/tidak)? ya\n",
      "\n",
      "Kocok Kartu...\n",
      "Kartu Pertama = 12\n",
      "Kartu Kedua = 11\n",
      "Selamat Anda Menang :)\n",
      "Total = 23\n",
      "Bermain lagi(ya/tidak)? tidak\n",
      "\n"
     ]
    }
   ],
   "source": [
    "import random\n",
    "import time\n",
    "\n",
    "kocokKartu = \"ya\"\n",
    "print(\"Selamat datang di permainan Kartu\")\n",
    "print(\"Jika kartu kamu lebih dari 21 maka kamu menang\")\n",
    "print(\"tetapi jika kartu kamu kurang dari 21 maka kamu kalah\")\n",
    "print('')\n",
    "    \n",
    "while kocokKartu == \"ya\":\n",
    "     \n",
    "    print(\"Kocok Kartu...\")\n",
    "    time.sleep(2)\n",
    "    kartuPertama = random.randint(1,13)\n",
    "    kartuKedua = random.randint(1,13)\n",
    "\n",
    "    total = kartuPertama + kartuKedua\n",
    "\n",
    "    print(f'Kartu Pertama = {kartuPertama}')\n",
    "    print(f'Kartu Kedua = {kartuKedua}')\n",
    "    \n",
    "    if total < 21:\n",
    "        print(\"Anda Kalah :(\")\n",
    "    else:\n",
    "        print(\"Selamat Anda Menang :)\")\n",
    "\n",
    "    print(f'Total = {total}')\n",
    "\n",
    "    kocokKartu = input(\"Bermain lagi(ya/tidak)? \")\n",
    "    print('')\n"
   ]
  },
  {
   "cell_type": "code",
   "execution_count": null,
   "id": "b4affe00",
   "metadata": {},
   "outputs": [],
   "source": []
  }
 ],
 "metadata": {
  "kernelspec": {
   "display_name": "Python 3 (ipykernel)",
   "language": "python",
   "name": "python3"
  },
  "language_info": {
   "codemirror_mode": {
    "name": "ipython",
    "version": 3
   },
   "file_extension": ".py",
   "mimetype": "text/x-python",
   "name": "python",
   "nbconvert_exporter": "python",
   "pygments_lexer": "ipython3",
   "version": "3.10.2"
  }
 },
 "nbformat": 4,
 "nbformat_minor": 5
}
