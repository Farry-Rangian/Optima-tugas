{
 "cells": [
  {
   "cell_type": "code",
   "execution_count": 5,
   "id": "9f1dbb87",
   "metadata": {},
   "outputs": [],
   "source": [
    "x = 23\n",
    "y = -12\n",
    "z = 9"
   ]
  },
  {
   "cell_type": "code",
   "execution_count": 6,
   "id": "a30afe97",
   "metadata": {
    "scrolled": true
   },
   "outputs": [
    {
     "name": "stdout",
     "output_type": "stream",
     "text": [
      "2\n"
     ]
    }
   ],
   "source": [
    "result = x+y-z\n",
    "print(result)"
   ]
  },
  {
   "cell_type": "code",
   "execution_count": 8,
   "id": "3b340166",
   "metadata": {
    "scrolled": true
   },
   "outputs": [
    {
     "name": "stdout",
     "output_type": "stream",
     "text": [
      "5\n"
     ]
    }
   ],
   "source": [
    "result = x % z\n",
    "print(result)"
   ]
  },
  {
   "cell_type": "code",
   "execution_count": 17,
   "id": "8f809a33",
   "metadata": {
    "scrolled": false
   },
   "outputs": [
    {
     "name": "stdout",
     "output_type": "stream",
     "text": [
      "odd number\n"
     ]
    }
   ],
   "source": [
    "x = 15\n",
    "\n",
    "if x % 2 == 0:\n",
    "    print(\"even number\")\n",
    "else:\n",
    "    print(\"odd number\")\n"
   ]
  },
  {
   "cell_type": "code",
   "execution_count": 17,
   "id": "a9c4f3eb",
   "metadata": {
    "scrolled": false
   },
   "outputs": [
    {
     "name": "stdout",
     "output_type": "stream",
     "text": [
      "Masukkan Panjang: 12\n",
      "masukkan Lebar : 12\n",
      "Masukkan Tinggi : 12\n",
      "\n",
      "Volume Balok adalah: 1728\n",
      "Luas Permukaan Balok adalah: 864\n"
     ]
    }
   ],
   "source": [
    "p = int(input(\"Masukkan Panjang: \"))\n",
    "l = int(input(\"masukkan Lebar : \"))\n",
    "t = int(input('Masukkan Tinggi : '))\n",
    "print(\"\")\n",
    "\n",
    "volume = (p*l*t)\n",
    "luasPermukaan = (2 * (p*l + p*t + l*t))\n",
    "print(f'Volume Balok adalah: {volume}')\n",
    "print(f'Luas Permukaan Balok adalah: {luasPermukaan}')"
   ]
  },
  {
   "cell_type": "code",
   "execution_count": 4,
   "id": "4fa29a75",
   "metadata": {},
   "outputs": [
    {
     "name": "stdout",
     "output_type": "stream",
     "text": [
      "Hello!\n",
      "Enter Something: bro\n",
      "I dont know what  bro Means.\n"
     ]
    }
   ],
   "source": [
    "print(\"Hello!\")\n",
    "something = input(\"Enter Something: \")\n",
    "if something == \"hello\":\n",
    "    print(\"Hello for you too\")\n",
    "elif something == \"hi\":\n",
    "    print(\"Hi there\")\n",
    "else:\n",
    "    print(\"I dont know what \", something, \"Means.\")"
   ]
  },
  {
   "cell_type": "code",
   "execution_count": 16,
   "id": "25d863c9",
   "metadata": {},
   "outputs": [
    {
     "name": "stdout",
     "output_type": "stream",
     "text": [
      "halo hai halo hai halo hai halo hai halo hai halo hai halo hai halo hai halo hai halo hai halo hai halo hai halo hai halo hai halo hai halo hai halo hai halo hai halo hai halo hai halo hai halo hai halo hai halo hai halo hai halo hai halo hai halo hai halo hai halo hai halo hai halo hai halo hai halo hai halo hai halo hai halo hai halo hai halo hai halo hai halo hai halo hai halo hai halo hai halo hai halo hai halo hai halo hai halo hai halo hai halo hai halo hai halo hai halo hai halo hai halo hai halo hai halo hai halo hai halo hai halo hai halo hai halo hai halo hai halo hai halo hai halo hai halo hai halo hai halo hai halo hai halo hai halo hai halo hai halo hai halo hai halo hai halo hai halo hai halo hai halo hai halo hai halo hai halo hai halo hai halo hai halo hai halo hai halo hai halo hai halo hai halo hai halo hai halo hai halo hai halo hai halo hai halo hai halo hai "
     ]
    }
   ],
   "source": [
    "i = range(1,100)\n",
    "\n",
    "for n in i:\n",
    "    print(\"halo hai\", end = \" \")"
   ]
  },
  {
   "cell_type": "code",
   "execution_count": null,
   "id": "1feea1c5",
   "metadata": {},
   "outputs": [],
   "source": []
  },
  {
   "cell_type": "code",
   "execution_count": null,
   "id": "273705ae",
   "metadata": {},
   "outputs": [],
   "source": []
  },
  {
   "cell_type": "code",
   "execution_count": 1,
   "id": "4867229e",
   "metadata": {},
   "outputs": [
    {
     "name": "stdout",
     "output_type": "stream",
     "text": [
      "Masukkan Panjang: 12\n",
      "masukkan Lebar : 12\n",
      "Masukkan Tinggi : 4\n",
      "\n",
      "Tekan 1 volume Balok dan 2 Luas Permukaan : 1\n",
      "Volume Balok adalah: 576\n"
     ]
    }
   ],
   "source": [
    "p = int(input(\"Masukkan Panjang: \"))\n",
    "l = int(input(\"masukkan Lebar : \"))\n",
    "t = int(input('Masukkan Tinggi : '))\n",
    "print(\"\")\n",
    "\n",
    "volume = (p*l*t)\n",
    "luasPermukaan = (2 * (p*l + p*t + l*t))\n",
    "\n",
    "pilih = input('Tekan 1 volume Balok dan 2 Luas Permukaan : ')\n",
    "if pilih == \"1\" :\n",
    "    print(f'Volume Balok adalah: {volume}')\n",
    "elif pilih == \"2\":\n",
    "    print(f'Luas Permukaan Balok adalah: {luasPermukaan}')\n",
    "else:\n",
    "    quit()"
   ]
  },
  {
   "cell_type": "code",
   "execution_count": null,
   "id": "29b6d863",
   "metadata": {},
   "outputs": [],
   "source": [
    "import random\n",
    "import time\n",
    "\n",
    "komputer1 = random.randint(-6,6)\n",
    "komputer2 = random.randint(-6,6)\n",
    "totalKomputer = komputer1 + komputer2\n",
    "\n",
    "main = \"ya\"\n",
    "i = 0\n",
    "while main == \"ya\":\n",
    "    i += 1\n",
    "    input1 = int(input(\"Masukkan angka pertama = \"))\n",
    "    input2 = int(input(\"Masukkan angka kedua = \"))\n",
    "    totalInput = input1 + input2\n",
    "    print(f'Total angka komputer = {totalKomputer}')\n",
    "    print(f'Total angka pemain = {totalInput}')\n",
    "\n",
    "    if totalKomputer == totalInput:\n",
    "        print(\"selamat anda menang :)\")\n",
    "        print(f'Anda menang pada game: {i}')\n",
    "    else:\n",
    "        print(\"Anda Kalah :(\")\n",
    "    main = input(\"Main Lagi (ya/tidak) ?\")\n",
    "    print(\"\")"
   ]
  },
  {
   "cell_type": "code",
   "execution_count": null,
   "id": "545af0a0",
   "metadata": {},
   "outputs": [],
   "source": []
  }
 ],
 "metadata": {
  "kernelspec": {
   "display_name": "Python 3 (ipykernel)",
   "language": "python",
   "name": "python3"
  },
  "language_info": {
   "codemirror_mode": {
    "name": "ipython",
    "version": 3
   },
   "file_extension": ".py",
   "mimetype": "text/x-python",
   "name": "python",
   "nbconvert_exporter": "python",
   "pygments_lexer": "ipython3",
   "version": "3.10.2"
  }
 },
 "nbformat": 4,
 "nbformat_minor": 5
}
