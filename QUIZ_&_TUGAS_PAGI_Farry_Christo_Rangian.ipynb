{
  "nbformat": 4,
  "nbformat_minor": 0,
  "metadata": {
    "colab": {
      "name": "QUIZ & TUGAS PAGI - Farry Christo Rangian.ipynb",
      "provenance": [],
      "collapsed_sections": []
    },
    "kernelspec": {
      "name": "python3",
      "display_name": "Python 3"
    },
    "language_info": {
      "name": "python"
    }
  },
  "cells": [
    {
      "cell_type": "code",
      "execution_count": null,
      "metadata": {
        "id": "Z13kkhpyvZKx"
      },
      "outputs": [],
      "source": [
        ""
      ]
    },
    {
      "cell_type": "markdown",
      "source": [
        "### Quiz 1\n",
        "\n",
        "even and odd number"
      ],
      "metadata": {
        "id": "s_ra-skvvfML"
      }
    },
    {
      "cell_type": "code",
      "source": [
        "x = int(input(\"input number: \"))\n",
        "\n",
        "if x % 2 == 0:\n",
        "    print(f'{x} is even number')\n",
        "else:\n",
        "    print(f'{x} is odd number')"
      ],
      "metadata": {
        "colab": {
          "base_uri": "https://localhost:8080/"
        },
        "id": "h8UyS9Mavkfc",
        "outputId": "e6c813fe-5421-44a4-b27f-68165c2ab565"
      },
      "execution_count": 5,
      "outputs": [
        {
          "output_type": "stream",
          "name": "stdout",
          "text": [
            "input number: 3\n",
            "3 is odd number\n"
          ]
        }
      ]
    },
    {
      "cell_type": "markdown",
      "source": [
        "### Quiz 2\n",
        "Operator"
      ],
      "metadata": {
        "id": "W-3fRtQ8wet6"
      }
    },
    {
      "cell_type": "code",
      "source": [
        "p = int(input(\"Masukkan Panjang: \"))\n",
        "l = int(input(\"masukkan Lebar : \"))\n",
        "t = int(input('Masukkan Tinggi : '))\n",
        "print(\"\")\n",
        "\n",
        "volume = (p*l*t)\n",
        "luasPermukaan = (2 * (p*l + p*t + l*t))\n",
        "print(f'Volume Balok adalah: {volume}')\n",
        "print(f'Luas Permukaan Balok adalah: {luasPermukaan}')"
      ],
      "metadata": {
        "colab": {
          "base_uri": "https://localhost:8080/"
        },
        "id": "Kt24mVLEvlOB",
        "outputId": "dbfe92e5-5416-4dc1-9cd8-4f58c15ec074"
      },
      "execution_count": 6,
      "outputs": [
        {
          "output_type": "stream",
          "name": "stdout",
          "text": [
            "Masukkan Panjang: 12\n",
            "masukkan Lebar : 12\n",
            "Masukkan Tinggi : 12\n",
            "\n",
            "Volume Balok adalah: 1728\n",
            "Luas Permukaan Balok adalah: 864\n"
          ]
        }
      ]
    },
    {
      "cell_type": "markdown",
      "source": [
        "### Quiz 3\n",
        "Perbaiki code"
      ],
      "metadata": {
        "id": "YPJ9Amlrwruq"
      }
    },
    {
      "cell_type": "code",
      "source": [
        "print(\"Hello!\")\n",
        "something = input(\"Enter Something: \")\n",
        "if something == \"hello\":\n",
        "    print(\"Hello for you too\")\n",
        "elif something == \"hi\":\n",
        "    print(\"Hi there\")\n",
        "else:\n",
        "    print(\"I dont know what \", something, \"Means.\")"
      ],
      "metadata": {
        "colab": {
          "base_uri": "https://localhost:8080/"
        },
        "id": "qOab7lrVwnyO",
        "outputId": "a60ca7e1-5d13-45a8-fb16-2a7110587399"
      },
      "execution_count": 8,
      "outputs": [
        {
          "output_type": "stream",
          "name": "stdout",
          "text": [
            "Hello!\n",
            "Enter Something: farry\n",
            "I dont know what  farry Means.\n"
          ]
        }
      ]
    },
    {
      "cell_type": "markdown",
      "source": [
        "### Quiz 4\n",
        "program halo hai sampai 100 kali dalam satu line"
      ],
      "metadata": {
        "id": "S4CsXNtIw_Ax"
      }
    },
    {
      "cell_type": "code",
      "source": [
        "i = range(1,100)\n",
        "\n",
        "for n in i:\n",
        "    print(\"halo hai\", end = \" \")"
      ],
      "metadata": {
        "colab": {
          "base_uri": "https://localhost:8080/"
        },
        "id": "XwwmoWJrw3tt",
        "outputId": "c21d410e-5bca-4ce1-a78c-1f0e97e92e65"
      },
      "execution_count": 9,
      "outputs": [
        {
          "output_type": "stream",
          "name": "stdout",
          "text": [
            "halo hai halo hai halo hai halo hai halo hai halo hai halo hai halo hai halo hai halo hai halo hai halo hai halo hai halo hai halo hai halo hai halo hai halo hai halo hai halo hai halo hai halo hai halo hai halo hai halo hai halo hai halo hai halo hai halo hai halo hai halo hai halo hai halo hai halo hai halo hai halo hai halo hai halo hai halo hai halo hai halo hai halo hai halo hai halo hai halo hai halo hai halo hai halo hai halo hai halo hai halo hai halo hai halo hai halo hai halo hai halo hai halo hai halo hai halo hai halo hai halo hai halo hai halo hai halo hai halo hai halo hai halo hai halo hai halo hai halo hai halo hai halo hai halo hai halo hai halo hai halo hai halo hai halo hai halo hai halo hai halo hai halo hai halo hai halo hai halo hai halo hai halo hai halo hai halo hai halo hai halo hai halo hai halo hai halo hai halo hai halo hai halo hai halo hai halo hai "
          ]
        }
      ]
    },
    {
      "cell_type": "markdown",
      "source": [
        "### Quiz 5\n",
        "Membuat pola segitiga dengan simbol asterisk"
      ],
      "metadata": {
        "id": "WupqB2wlxLB5"
      }
    },
    {
      "cell_type": "code",
      "source": [
        "n = int(input(\"Masukkan jumlah pola: \"))\n",
        "for i in range(0, n):\n",
        "  for j in range(0, i + 1):\n",
        "    print(\"* \", end=\"\")\n",
        "  print(\"\\r\")\n",
        "for i in range(n, 0 , -1):\n",
        "  for j in range(0, i + 1):\n",
        "    print(\"* \", end=\"\")\n",
        "  print(\"\\r\")"
      ],
      "metadata": {
        "colab": {
          "base_uri": "https://localhost:8080/"
        },
        "id": "61FJBFT7xJ3s",
        "outputId": "9df74f2b-b939-4d6a-b6f5-5ffe1c4a08bd"
      },
      "execution_count": 13,
      "outputs": [
        {
          "output_type": "stream",
          "name": "stdout",
          "text": [
            "Masukkan jumlah pola: 5\n",
            "* \n",
            "* * \n",
            "* * * \n",
            "* * * * \n",
            "* * * * * \n",
            "* * * * * * \n",
            "* * * * * \n",
            "* * * * \n",
            "* * * \n",
            "* * \n"
          ]
        }
      ]
    },
    {
      "cell_type": "markdown",
      "source": [
        "# Tugas Suit"
      ],
      "metadata": {
        "id": "UdsS6ObYxoBy"
      }
    },
    {
      "cell_type": "code",
      "source": [
        "from random import randint\n",
        "\n",
        "\n",
        "# Buat list option untuk permainan\n",
        "suit = [\"Gunting\", \"Batu\", \"Kertas\"]\n",
        "\n",
        "# buat pilihan secara random dengan func randint\n",
        "komputer = suit[randint(0,2)]\n",
        "\n",
        "# Set player ke False\n",
        "player = False\n",
        "\n",
        "while player == False:\n",
        "    #Set player ke True\n",
        "    player = input(\"Gunting, Batu, Kertas ? : \")\n",
        "    if player == komputer:\n",
        "        print(\"Seri!\")\n",
        "    elif player == \"Batu\":\n",
        "        if komputer == \"Kertas\":\n",
        "            print(\"Kamu Kalah!\", komputer, \"membungkus\", player)\n",
        "        else:\n",
        "            print(\"Kamu Menang!\", player, \"menghancurkan\", komputer)\n",
        "    elif player == \"Kertas\":\n",
        "        if komputer == \"Gunting\":\n",
        "            print(\"Kamu Kalah!\", komputer, \"memotong\", player)\n",
        "        else:\n",
        "            print(\"Kamu Menang!\", player, \"membungkus\", komputer)\n",
        "    elif player == \"Gunting\":\n",
        "        if komputer == \"Batu\":\n",
        "            print(\"Kamu Kalah!\", komputer, \"menghancurkan\", player)\n",
        "        else:\n",
        "            print(\"Kamu Menang!\", player, \"momotong\", komputer)\n",
        "    else:\n",
        "        print(\"Pilihan yang kamu masukan salah...\")\n",
        "\n",
        "    # Set player ke False lagi supaya terjadinya looping yang berulang\n",
        "\n",
        "    player = False\n",
        "komputer = suit[randint(0,2)]"
      ],
      "metadata": {
        "colab": {
          "base_uri": "https://localhost:8080/"
        },
        "id": "d6aS1VhUxaye",
        "outputId": "4768c69e-b20f-4a61-cc5f-a7ffad0f7358"
      },
      "execution_count": null,
      "outputs": [
        {
          "output_type": "stream",
          "name": "stdout",
          "text": [
            "Gunting, Batu, Kertas ? : Gunting\n",
            "Kamu Menang! Gunting momotong Kertas\n",
            "Gunting, Batu, Kertas ? : Kertas\n",
            "Seri!\n",
            "Gunting, Batu, Kertas ? : Batu\n",
            "Kamu Kalah! Kertas membungkus Batu\n",
            "Gunting, Batu, Kertas ? : Gunting\n",
            "Kamu Menang! Gunting momotong Kertas\n"
          ]
        }
      ]
    },
    {
      "cell_type": "code",
      "source": [
        ""
      ],
      "metadata": {
        "id": "tTztVOvOyrbf"
      },
      "execution_count": null,
      "outputs": []
    }
  ]
}